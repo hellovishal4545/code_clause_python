{
 "cells": [
  {
   "cell_type": "markdown",
   "id": "6e7bd0ae-bcb0-4138-a12d-8129086e2f21",
   "metadata": {},
   "source": [
    "Author: Vishal Khatik"
   ]
  },
  {
   "cell_type": "markdown",
   "id": "bd7dfe01-6ed3-43d5-b5e1-48a4bcbabbb5",
   "metadata": {},
   "source": [
    "Project Title - Password Generator"
   ]
  },
  {
   "cell_type": "markdown",
   "id": "db03315a-b790-4c7f-b2d3-0be08a941d2c",
   "metadata": {},
   "source": [
    "Project ID - #CC9863"
   ]
  },
  {
   "cell_type": "markdown",
   "id": "e5c6b147-d805-4100-b2d1-de9fee6c3e56",
   "metadata": {},
   "source": [
    "Internship Domain - Python Development Intern"
   ]
  },
  {
   "cell_type": "markdown",
   "id": "e4cea2a6-6071-4999-b634-4f12d7982b79",
   "metadata": {},
   "source": [
    "Date: 1-08-2024 to 1-09-2024"
   ]
  },
  {
   "cell_type": "code",
   "execution_count": null,
   "id": "9edb8962-955b-4bf1-a32e-54864e4f34f8",
   "metadata": {},
   "outputs": [],
   "source": []
  },
  {
   "cell_type": "code",
   "execution_count": 5,
   "id": "d82611b9",
   "metadata": {},
   "outputs": [],
   "source": [
    "import random \n",
    "latters = ['a','b','c','d','e','f','g','h','i','j','k','l','m','n','o','p','q','r','s','t','u','v','w','x','y','z','A','B','C','D',\n",
    "          'E','F','G','H','I','J','K','L','M','N','O','P','Q','R','S','T','U','V','W','X','Y','Z']\n",
    "numbers = ['0','1','2','3','4','5','6','7','8','9']\n",
    "symbols = ['!','@','#','$','&',':','>','?','(','_']\n"
   ]
  },
  {
   "cell_type": "code",
   "execution_count": null,
   "id": "ea521269-8da4-434f-9fdc-2b3a96209ca1",
   "metadata": {},
   "outputs": [],
   "source": []
  },
  {
   "cell_type": "code",
   "execution_count": 7,
   "id": "60da0e47",
   "metadata": {},
   "outputs": [
    {
     "name": "stdout",
     "output_type": "stream",
     "text": [
      "welcome to password genrerator!\n"
     ]
    },
    {
     "name": "stdin",
     "output_type": "stream",
     "text": [
      "How many letter would you like in password?\n",
      " 5\n",
      "how many symbol would you like?\n",
      " 5\n",
      "how many numbers would you like ?\n",
      " 2\n"
     ]
    },
    {
     "name": "stdout",
     "output_type": "stream",
     "text": [
      "password is:m@76&?S@:EOD\n"
     ]
    }
   ],
   "source": [
    "print('welcome to password genrerator!')\n",
    "nr_letters = int(input('How many letter would you like in password?\\n'))\n",
    "nr_symbols = int(input('how many symbol would you like?\\n'))\n",
    "nr_numbers = int(input('how many numbers would you like ?\\n'))\n",
    "\n",
    "paswword_list = []\n",
    "\n",
    "for char in range(1,nr_letters + 1):\n",
    "    paswword_list.append(random.choice(latters))\n",
    "    \n",
    "for char in range(1,nr_symbols + 1):\n",
    "    paswword_list += random.choice(symbols)\n",
    "    \n",
    "for char in range(1,nr_numbers + 1):\n",
    "    paswword_list += random.choice(numbers)\n",
    "    \n",
    "random.shuffle(paswword_list)\n",
    "password = \"\"\n",
    "for char in paswword_list:\n",
    "    password += char\n",
    "    \n",
    "print(f\"password is:{password}\")    "
   ]
  },
  {
   "cell_type": "code",
   "execution_count": null,
   "id": "c1b8c75c",
   "metadata": {},
   "outputs": [],
   "source": []
  }
 ],
 "metadata": {
  "kernelspec": {
   "display_name": "Python 3 (ipykernel)",
   "language": "python",
   "name": "python3"
  },
  "language_info": {
   "codemirror_mode": {
    "name": "ipython",
    "version": 3
   },
   "file_extension": ".py",
   "mimetype": "text/x-python",
   "name": "python",
   "nbconvert_exporter": "python",
   "pygments_lexer": "ipython3",
   "version": "3.11.7"
  }
 },
 "nbformat": 4,
 "nbformat_minor": 5
}
