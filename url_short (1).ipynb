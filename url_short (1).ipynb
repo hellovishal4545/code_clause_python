{
 "cells": [
  {
   "cell_type": "markdown",
   "id": "1e118ed0-349f-452b-9c52-c17690416207",
   "metadata": {},
   "source": [
    "Author: Vishal Khatik"
   ]
  },
  {
   "cell_type": "markdown",
   "id": "5617ad05-e308-4957-bfce-888ab39f5609",
   "metadata": {},
   "source": [
    " Project Title - Advanced URL Shortener with Analytics"
   ]
  },
  {
   "cell_type": "markdown",
   "id": "5c9f8bf5-f18b-443c-ba88-fdb9c1094485",
   "metadata": {},
   "source": [
    "Project ID - #CC9865"
   ]
  },
  {
   "cell_type": "markdown",
   "id": "bfcd33de-8be5-442c-a38a-f10e89a16b0a",
   "metadata": {},
   "source": [
    " Internship Domain - Python Development Intern"
   ]
  },
  {
   "cell_type": "markdown",
   "id": "6b0c1f08-8e96-40b3-b931-3fb6462778a3",
   "metadata": {},
   "source": [
    "Date: 1-08-2024 to 1-09-2024"
   ]
  },
  {
   "cell_type": "code",
   "execution_count": null,
   "id": "2372e708-1129-46b3-9ac6-1aca4bcf0250",
   "metadata": {},
   "outputs": [],
   "source": [
    "s"
   ]
  },
  {
   "cell_type": "code",
   "execution_count": null,
   "id": "139fb11a-37a2-41c1-bc66-dab9b5335b4b",
   "metadata": {},
   "outputs": [],
   "source": [
    "import streamlit as st\n",
    "import pyshorteners as pyst\n",
    "import pyperclip\n",
    "#from matplotlib import animation\n",
    "#from matplotlib.font_manager import json_load\n",
    "#import json\n",
    "import streamlit.components.v1 as com\n",
    "#from streamlit_lottie import st_lottie\n",
    "com.iframe(\"https://lottie.host/embed/5cfc1a3d-76ad-400b-9db0-023947afae57/lvgGWjs49p.json\")\n",
    "shortner = pyst.Shortener()\n",
    "def  copying():\n",
    "    pyperclip.copy(shorted_url)\n",
    "\n",
    "st.markdown(\"<h1 style = 'text-align:center;'>URL Shortner</h1>\",unsafe_allow_html=True)\n",
    "form = st.form(\"name\")\n",
    "url = form.text_input(\"URL Here\")\n",
    "s_btn = form.form_submit_button('SHORT')\n",
    "if s_btn:\n",
    "    shorted_url = shortner.tinyurl.short(url)\n",
    "    st.markdown(\"<h3> Shortd Url</h3>\",unsafe_allow_html=True)\n",
    "    st.markdown(f\"<h6 style = 'text-align:center;'>{shorted_url}</h6>\",unsafe_allow_html=True)\n",
    "    st.button('Copy',on_click=copying)"
   ]
  }
 ],
 "metadata": {
  "kernelspec": {
   "display_name": "Python 3 (ipykernel)",
   "language": "python",
   "name": "python3"
  },
  "language_info": {
   "codemirror_mode": {
    "name": "ipython",
    "version": 3
   },
   "file_extension": ".py",
   "mimetype": "text/x-python",
   "name": "python",
   "nbconvert_exporter": "python",
   "pygments_lexer": "ipython3",
   "version": "3.11.7"
  }
 },
 "nbformat": 4,
 "nbformat_minor": 5
}
